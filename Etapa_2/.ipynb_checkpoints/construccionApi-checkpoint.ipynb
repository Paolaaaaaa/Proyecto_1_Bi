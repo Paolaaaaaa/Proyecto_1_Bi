{
 "cells": [
  {
   "cell_type": "code",
   "execution_count": 89,
   "metadata": {},
   "outputs": [
    {
     "name": "stderr",
     "output_type": "stream",
     "text": [
      "[nltk_data] Downloading package stopwords to C:\\Users\\El\n",
      "[nltk_data]     supremo\\AppData\\Roaming\\nltk_data...\n",
      "[nltk_data]   Package stopwords is already up-to-date!\n",
      "[nltk_data] Downloading package punkt to C:\\Users\\El\n",
      "[nltk_data]     supremo\\AppData\\Roaming\\nltk_data...\n",
      "[nltk_data]   Package punkt is already up-to-date!\n"
     ]
    }
   ],
   "source": [
    "from pydantic import BaseModel\n",
    "import re, string, unicodedata\n",
    "from num2words import num2words\n",
    "from nltk import word_tokenize, sent_tokenize\n",
    "from nltk.corpus import stopwords\n",
    "from sklearn.model_selection import train_test_split\n",
    "from sklearn.feature_extraction.text import TfidfVectorizer, CountVectorizer, HashingVectorizer\n",
    "from sklearn.preprocessing import FunctionTransformer\n",
    "import pandas as pd\n",
    "import nltk\n",
    "from sklearn.metrics import mean_absolute_error, mean_squared_error, r2_score\n",
    "import numpy as np\n",
    "from sklearn.metrics import accuracy_score, confusion_matrix, classification_report\n",
    "nltk.download('stopwords')\n",
    "nltk.download('punkt')\n",
    "from sklearn.linear_model import LogisticRegression\n",
    "from sklearn.pipeline import Pipeline\n",
    "from joblib import dump"
   ]
  },
  {
   "cell_type": "code",
   "execution_count": 90,
   "metadata": {},
   "outputs": [
    {
     "name": "stdout",
     "output_type": "stream",
     "text": [
      "Overwriting clean_text.py\n"
     ]
    }
   ],
   "source": [
    "%%writefile clean_text.py\n",
    "def remove_non_ascii(words):\n",
    "    \"\"\"Remove non-ASCII characters from list of tokenized words\"\"\"\n",
    "    new_words = []\n",
    "    for word in words:\n",
    "        new_word = unicodedata.normalize('NFKD', word).encode('ascii', 'ignore').decode('utf-8', 'ignore')\n",
    "        new_words.append(new_word)\n",
    "    return new_words\n",
    "\n",
    "\n",
    "def to_lowercase(words):\n",
    "    \"\"\"Convert all characters to lowercase from list of tokenized words\"\"\"\n",
    "    return [x.lower() for x in words]\n",
    "\n",
    "def remove_punctuation(words):\n",
    "    \"\"\"Remove punctuation from list of tokenized words\"\"\"\n",
    "    \n",
    "    new_words = []\n",
    "    for word in words:\n",
    "        new_word = re.sub(r'[^\\w\\s]', ' ', word)\n",
    "        if new_word != '':\n",
    "            new_words.append(new_word)\n",
    "    return new_words\n",
    "def replace_numbers(words):\n",
    "    \"\"\"Replace all interger occurrences in list of tokenized words with textual representation\"\"\"\n",
    "    new_words = []\n",
    "    for word in words:\n",
    "        if word.isdigit():\n",
    "            new_word = num2words(word, lang = 'es_CO')\n",
    "            new_words.append(new_word)\n",
    "        else:\n",
    "            new_words.append(word)\n",
    "    return new_words\n",
    "\n",
    "\n",
    "def remove_stopwords(words):\n",
    "    \"\"\"Remove stop words from list of tokenized words\"\"\"\n",
    "    stopword_es = nltk.corpus.stopwords.words('spanish')\n",
    "    new_words = []\n",
    "\n",
    "    for word  in words:\n",
    "        if word not in stopword_es:\n",
    "            new_words.append(word)\n",
    "    return new_words\n",
    "    \n",
    "def preprocessing(words):\n",
    "    words = to_lowercase(words)\n",
    "    words = replace_numbers(words)\n",
    "    words = remove_punctuation(words)\n",
    "    words = remove_non_ascii(words)\n",
    "    words = remove_stopwords(words)\n",
    "    return words\n",
    "\n",
    "def clean_text(reviews):\n",
    "    reviews = reviews.apply(word_tokenize).apply(preprocessing)\n",
    "\n",
    "    reviews = reviews.apply(lambda x: ' '.join(map(str, x)))\n",
    "\n",
    "    reviews = reviews.apply(word_tokenize).apply(preprocessing)\n",
    "    reviews = reviews.apply(lambda x: ' '.join(map(str, x)))\n",
    "\n",
    "    return reviews\n",
    "\n"
   ]
  },
  {
   "cell_type": "code",
   "execution_count": 91,
   "metadata": {},
   "outputs": [],
   "source": [
    "def join_tokens(tokens):\n",
    "    return tokens.apply(lambda x: ' '.join(map(str, x)))\n",
    "\n",
    "def generate_pipeLine():\n",
    "    df_peliculas = pd.read_csv('./data/MovieReviews.csv', sep=',', encoding = 'utf-8')\n",
    "\n",
    "    x_train_m2, x_test_m2, y_train_m2,  y_test_m2  = train_test_split(df_peliculas['review_es'], df_peliculas['sentimiento'], test_size=0.2, random_state=42)\n",
    "\n",
    "    y_train_m2 = (y_train_m2 == 'positivo').astype(int)\n",
    "    y_test_m2 = (y_test_m2 == 'positivo').astype(int)\n",
    "\n",
    "    pipeline = Pipeline(\n",
    "        [\n",
    "        \n",
    "            ('clean_text', FunctionTransformer(clean_text)),\n",
    "            ('vectorizador', CountVectorizer(analyzer='word')),\n",
    "            ('model', LogisticRegression())\n",
    "        ]\n",
    "    )\n",
    "    vectorizer = TfidfVectorizer()\n",
    "    pipeline.fit(x_train_m2, y_train_m2)\n",
    "    dump(pipeline, 'modelo.joblib')\n",
    "    y_pred = pipeline.predict(x_test_m2)\n",
    "    print(\"Precisión:\", accuracy_score(y_test_m2, y_pred))\n",
    "    print(\"Matriz de confusión:\\n\", confusion_matrix(y_test_m2, y_pred))\n"
   ]
  },
  {
   "cell_type": "code",
   "execution_count": null,
   "metadata": {},
   "outputs": [
    {
     "name": "stdout",
     "output_type": "stream",
     "text": [
      "Generado Pipeline:\n"
     ]
    }
   ],
   "source": [
    "print(\"Generado Pipeline:\")\n",
    "generate_pipeLine()"
   ]
  },
  {
   "cell_type": "code",
   "execution_count": null,
   "metadata": {},
   "outputs": [],
   "source": []
  }
 ],
 "metadata": {
  "kernelspec": {
   "display_name": "Python 3 (ipykernel)",
   "language": "python",
   "name": "python3"
  },
  "language_info": {
   "codemirror_mode": {
    "name": "ipython",
    "version": 3
   },
   "file_extension": ".py",
   "mimetype": "text/x-python",
   "name": "python",
   "nbconvert_exporter": "python",
   "pygments_lexer": "ipython3",
   "version": "3.9.13"
  }
 },
 "nbformat": 4,
 "nbformat_minor": 2
}
